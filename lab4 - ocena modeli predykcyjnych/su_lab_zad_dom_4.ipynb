{
  "cells": [
    {
      "cell_type": "markdown",
      "source": [
        "# Systemy uczące się - Zad. dom. 4: Ocena modeli predykcyjnych\n",
        "\n",
        "### Autor rozwiązania\n",
        "Uzupełnij poniższe informacje umieszczając swoje imię i nazwisko oraz numer indeksu:"
      ],
      "metadata": {
        "collapsed": false,
        "id": "69e52298440c6e3b"
      },
      "id": "69e52298440c6e3b"
    },
    {
      "cell_type": "code",
      "execution_count": null,
      "outputs": [],
      "source": [
        "NAME = \"Wojciech Kot\"\n",
        "ID = \"151879\""
      ],
      "metadata": {
        "id": "e47ff80fe053b100"
      },
      "id": "e47ff80fe053b100"
    },
    {
      "cell_type": "markdown",
      "source": [
        "Ten notebook zawiera zadania związane z oceną modeli predykcyjnych. Oprócz zadań programistycznych, notebook zawira również pytania, na które trzeba odpowiedzieć. Odpowiedzi nie muszą być długie, ale powinny być merytoryczne i odnosić się do omawianych zagadnień. W tym zadaniu domowym należy odpowiedzieć na WSZYSTKIE pytania.\n",
        "\n",
        "\n",
        "## Format danych\n",
        "W tym zadaniu domyślnym typem danych będą macierze (`np.ndarray`) o rozmiarze `(n, c)`, gdzie `n` to liczba obserwacji, a `c` to liczba klas. Wartości w macierzy będą reprezentować:\n",
        "\n",
        "- w przypadku `y` - prawdziwe klasy (wartości binarne). Na przykład:\n",
        "    ```\n",
        "    [\n",
        "        [1, 0, 0],\n",
        "        [0, 0, 1],\n",
        "        [1, 0, 0],\n",
        "    ]\n",
        "    ```\n",
        "    oznacza, że pierwsza i trzecia obserwacja należą do klasy 0, a druga do klasy 2.\n",
        "\n",
        "- w przypadku `y_hat` - predykcje modelu. Wartości w macierzy mogą reprezentować:\n",
        "    * prawdopodobieństwa przynależności do danej klasy (wartości z przedziału `[0, 1]`). Na przykład:\n",
        "        ```\n",
        "        [\n",
        "            [0.9, 0.1, 0.0],\n",
        "            [0.1, 0.2, 0.7],\n",
        "            [0.8, 0.2, 0.0],\n",
        "        ]\n",
        "        ```\n",
        "        oznacza, że model przewiduje, że pierwsza obserwacja należy do klasy 0 z prawdopodobieństwem 0.9, a do klasy 1 z prawdopodobieństwem 0.1.\n",
        "    \n",
        "    * predykcje (wartości binarne), gdzie wartość `1` oznacza przynależność do danej klasy, a wartość `0` jej brak.\n",
        "        ```\n",
        "        [\n",
        "            [0, 1, 0],\n",
        "            [0, 0, 1],\n",
        "            [0, 1, 0],\n",
        "        ]\n",
        "        ```\n",
        "        oznacza, że model przewiduje, że pierwsza obserwacja należy do klasy 1, a druga do klasy 2."
      ],
      "metadata": {
        "collapsed": false,
        "id": "bdd51e80a7d4374d"
      },
      "id": "bdd51e80a7d4374d"
    },
    {
      "cell_type": "markdown",
      "source": [
        "# Zadanie 1: Punktowe miary oceny klasyfikatorów\n",
        "\n",
        "Zadanie polega na zaimplementowaniu funkcji obliczających punktowe miary oceny klasyfikatorów, takich jak:\n",
        "- dokładność (accuracy),\n",
        "- precyzja (precision),\n",
        "- czułość (recall),\n",
        "- specyficzność (specificity),\n",
        "- F1,\n",
        "- G-mean,\n",
        "- balanced accuracy.\n",
        "\n",
        "Uwagi:\n",
        "- Do rozwiązania zadania można wykorzystać wyłącznie bibliotekę `numpy`.\n",
        "- Na potrzeby zadania domowego można założyć, że klasyfikacja jest wieloklasowa, ale jednoetykietowa (tj. każda obserwacja należy do dokładnie jednej klasy).\n",
        "- W przypadku, gdy mianownik w równaniu miary oceny jest równy 0, wartość miary powinna wynosić 0.\n",
        "- Podpowiedź: przy obliczaniu wielu miar warto zaimplementować funkcję pomocniczą, która oblicza macierz pomyłek."
      ],
      "metadata": {
        "collapsed": false,
        "id": "c19a9bbaf859afd4"
      },
      "id": "c19a9bbaf859afd4"
    },
    {
      "cell_type": "code",
      "execution_count": null,
      "outputs": [],
      "source": [
        "from typing import Literal\n",
        "\n",
        "import numpy as np"
      ],
      "metadata": {
        "id": "cd9fa7c6262a1e77"
      },
      "id": "cd9fa7c6262a1e77"
    },
    {
      "cell_type": "code",
      "execution_count": null,
      "outputs": [],
      "source": [
        "y = np.eye(2, dtype=int)[np.repeat([0, 1], 50)]\n",
        "y_hat_0 = np.tile([1, 0], (100, 1))\n",
        "y_hat_1 = np.tile([0, 1], (100, 1))"
      ],
      "metadata": {
        "id": "4816126ba546c472"
      },
      "id": "4816126ba546c472"
    },
    {
      "cell_type": "code",
      "source": [
        "def confusion_matrix(y_hat: np.ndarray, y: np.ndarray) -> np.ndarray:\n",
        "    \"\"\"Funkcja obliczająca macierz pomyłek.\n",
        "\n",
        "    Args:\n",
        "        y_hat (np.ndarray): Macierz z predykacjami modelu o wymiarach `(n, c)`.\n",
        "        y (np.ndarray): Macierz z prawdziwymi klasami o wymiarach `(n, c)`.\n",
        "\n",
        "        Returns:\n",
        "        np.ndarray: Macierz pomyłek o wymiarach `(c, c)`.\n",
        "        rzeczywista klasa\\\\klasa predykcji\n",
        "                         \\\\     0    ||     1    || ...\n",
        "                       0 || 0 jako 0 || 0 jako 1 || ...\n",
        "                       1 || 1 jako 0 || 1 jako 1 || ...\n",
        "                       ...\n",
        "    \"\"\"\n",
        "    n = y.shape[0]\n",
        "    # c = y.shape[1]\n",
        "\n",
        "    # argmax w razie prawdopodobieństw\n",
        "    if y.ndim == 2:\n",
        "        y = np.argmax(y, axis=1)\n",
        "    if y_hat.ndim == 2:\n",
        "        y_hat = np.argmax(y_hat, axis=1)\n",
        "\n",
        "    c = max(y.max(), y_hat.max()) + 1\n",
        "\n",
        "    cm = np.zeros((c, c),dtype=int)\n",
        "    for true_label, pred_label in zip(y, y_hat):\n",
        "        cm[true_label, pred_label] += 1\n",
        "    return cm\n",
        "\n",
        "# cm = confusion_matrix(y, y)\n",
        "# print(cm)\n",
        "cm = confusion_matrix(y_hat_1, y)\n",
        "print(cm)\n"
      ],
      "metadata": {
        "colab": {
          "base_uri": "https://localhost:8080/"
        },
        "id": "rOh7IkfIUMMe",
        "outputId": "3c12929c-6991-4a2d-a6fe-ae57c9e40de6"
      },
      "id": "rOh7IkfIUMMe",
      "execution_count": null,
      "outputs": [
        {
          "output_type": "stream",
          "name": "stdout",
          "text": [
            "[[ 0 50]\n",
            " [ 0 50]]\n"
          ]
        }
      ]
    },
    {
      "cell_type": "code",
      "execution_count": null,
      "outputs": [
        {
          "output_type": "stream",
          "name": "stdout",
          "text": [
            "0.5\n"
          ]
        }
      ],
      "source": [
        "def accuracy(y_hat: np.ndarray, y: np.ndarray) -> float:\n",
        "    \"\"\"Funkcja obliczająca dokładność klasyfikacji (accuracy). Funkcja powinna wspierać klasyfikację wieloklasową.\n",
        "\n",
        "    Args:\n",
        "        y_hat (np.ndarray): Macierz z predykacjami modelu o wymiarach `(n, c)`.\n",
        "        y (np.ndarray): Macierz z prawdziwymi klasami o wymiarach `(n, c)`.\n",
        "\n",
        "    Returns:\n",
        "        float: Dokładność klasyfikacji.\n",
        "    \"\"\"\n",
        "    cm = confusion_matrix(y_hat, y)\n",
        "    return np.trace(cm) / np.sum(cm)\n",
        "\n",
        "acc = accuracy(y_hat_0, y)\n",
        "print(acc)"
      ],
      "metadata": {
        "colab": {
          "base_uri": "https://localhost:8080/"
        },
        "id": "551cb44f628f171f",
        "outputId": "3dd37ab2-599c-4c18-be5a-5b493c548854"
      },
      "id": "551cb44f628f171f"
    },
    {
      "cell_type": "code",
      "execution_count": null,
      "outputs": [],
      "source": [
        "def precision(y_hat: np.ndarray, y: np.ndarray, average: Literal[\"micro\", \"macro\"] = \"micro\") -> float:\n",
        "    \"\"\"Funkcja obliczająca precyzję klasyfikacji (precision). Funkcja powinna wspierać klasyfikację wieloklasową.\n",
        "\n",
        "    Args:\n",
        "        y_hat (np.ndarray): Macierz z predykacjami modelu o wymiarach `(n, c)`.\n",
        "        y (np.ndarray): Macierz z prawdziwymi klasami o wymiarach `(n, c)`.\n",
        "        average (\"micro\" | \"macro\"): Typ uśredniania wyników. Domyślnie \"micro\".\n",
        "\n",
        "    Returns:\n",
        "        float: Precyzja klasyfikacji.\n",
        "    \"\"\"\n",
        "    cm = confusion_matrix(y_hat, y)\n",
        "    if average == \"micro\":\n",
        "        return np.sum(np.diag(cm)) / np.sum(cm) if np.sum(cm) > 0 else 0.0\n",
        "    else:\n",
        "        return np.mean(np.diag(cm) / np.sum(cm, axis=0, where=np.sum(cm, axis=0) > 0, initial=1))\n"
      ],
      "metadata": {
        "id": "c540cf06bcdebb6d"
      },
      "id": "c540cf06bcdebb6d"
    },
    {
      "cell_type": "code",
      "execution_count": null,
      "outputs": [],
      "source": [
        "def recall(y_hat: np.ndarray, y: np.ndarray, average: Literal[\"micro\", \"macro\"] = \"micro\") -> float:\n",
        "    \"\"\"Funkcja obliczająca czułość klasyfikacji (recall). Funkcja powinna wspierać klasyfikację wieloklasową.\n",
        "\n",
        "    Args:\n",
        "        y_hat (np.ndarray): Macierz z predykacjami modelu o wymiarach `(n, c)`.\n",
        "        y (np.ndarray): Macierz z prawdziwymi klasami o wymiarach `(n, c)`.\n",
        "        average (\"micro\" | \"macro\"): Typ uśredniania wyników. Domyślnie \"micro\".\n",
        "\n",
        "    Returns:\n",
        "        float: Precyzja klasyfikacji.\n",
        "    \"\"\"\n",
        "    cm = confusion_matrix(y_hat, y)\n",
        "    if average == \"micro\":\n",
        "        return np.sum(np.diag(cm)) / np.sum(cm) if np.sum(cm) > 0 else 0.0\n",
        "    else:\n",
        "        return np.mean(np.diag(cm) / np.sum(cm, axis=1, where=np.sum(cm, axis=1) > 0, initial=1))"
      ],
      "metadata": {
        "id": "f9c8d8ce619ceca9"
      },
      "id": "f9c8d8ce619ceca9"
    },
    {
      "cell_type": "code",
      "execution_count": null,
      "outputs": [],
      "source": [
        "def specificity(y_hat: np.ndarray, y: np.ndarray, average: Literal[\"micro\", \"macro\"] = \"micro\") -> float:\n",
        "    \"\"\"Funkcja obliczająca specyficzność klasyfikacji (specificity). Funkcja powinna wspierać klasyfikację wieloklasową.\n",
        "\n",
        "    Args:\n",
        "        y_hat (np.ndarray): Macierz z predykacjami modelu o wymiarach `(n, c)`.\n",
        "        y (np.ndarray): Macierz z prawdziwymi klasami o wymiarach `(n, c)`.\n",
        "        average (\"micro\" | \"macro\"): Typ uśredniania wyników. Domyślnie \"micro\".\n",
        "\n",
        "    Returns:\n",
        "        float: Specyficzność klasyfikacji.\n",
        "    \"\"\"\n",
        "    cm = confusion_matrix(y_hat, y)\n",
        "    TN = np.sum(cm) - (np.sum(cm, axis=0) + np.sum(cm, axis=1) - np.diag(cm))\n",
        "    FP = np.sum(cm, axis=0) - np.diag(cm)\n",
        "    if average == \"micro\":\n",
        "        return np.sum(TN) / (np.sum(TN) + np.sum(FP)) if (np.sum(TN) + np.sum(FP)) > 0 else 0.0\n",
        "    else:\n",
        "        specificity_per_class = np.where((TN + FP) > 0, TN / (TN + FP), 0.0)\n",
        "        return np.mean(specificity_per_class)"
      ],
      "metadata": {
        "id": "acd7d74d04dea13f"
      },
      "id": "acd7d74d04dea13f"
    },
    {
      "cell_type": "code",
      "source": [
        "def f1_score(y_hat: np.ndarray, y: np.ndarray, average: Literal[\"micro\", \"macro\"] = \"micro\") -> float:\n",
        "  p = precision(y_hat, y, average)\n",
        "  r = recall(y_hat, y, average)\n",
        "  return 2 * p * r / (p + r) if (p + r) > 0 else 0.0\n"
      ],
      "metadata": {
        "id": "4sXwCYw_4QXx"
      },
      "id": "4sXwCYw_4QXx",
      "execution_count": null,
      "outputs": []
    },
    {
      "cell_type": "code",
      "source": [
        "def g_mean(y_hat: np.ndarray, y: np.ndarray, average: Literal[\"micro\", \"macro\"] = \"micro\") -> float:\n",
        "  r = recall(y_hat, y, \"macro\")\n",
        "  s = specificity(y_hat, y, \"macro\")\n",
        "  return np.sqrt(r * s)"
      ],
      "metadata": {
        "id": "6a_bL7_X42Q0"
      },
      "id": "6a_bL7_X42Q0",
      "execution_count": null,
      "outputs": []
    },
    {
      "cell_type": "code",
      "source": [
        "def balanced_accuracy(y_hat: np.ndarray, y: np.ndarray, average: Literal[\"micro\", \"macro\"] = \"micro\") -> float:\n",
        "  r = recall(y_hat, y, \"macro\")\n",
        "  s = specificity(y_hat, y, \"macro\")\n",
        "  return (r + s) / 2"
      ],
      "metadata": {
        "id": "hOnHigu-5Bt3"
      },
      "id": "hOnHigu-5Bt3",
      "execution_count": null,
      "outputs": []
    },
    {
      "cell_type": "markdown",
      "source": [
        "Zatrzymaj się w tym miejscu na chwilę i poeksperymentuj z dotychczas zaimplementowanymi funkcjami i danymi testowymi. Spróbuj zrozumieć, jak działają poszczególne miary oceny klasyfikatorów. Możesz ograniczyć się do uśredniania wyników \"micro\"."
      ],
      "metadata": {
        "collapsed": false,
        "id": "a3319f698d1d7d77"
      },
      "id": "a3319f698d1d7d77"
    },
    {
      "cell_type": "code",
      "execution_count": null,
      "outputs": [
        {
          "output_type": "stream",
          "name": "stdout",
          "text": [
            "[[50  0]\n",
            " [50  0]]\n",
            "[[ 0 50]\n",
            " [ 0 50]]\n",
            "===\n",
            "0.5\n",
            "0.5\n",
            "===\n",
            "0.5\n",
            "0.5\n",
            "===\n",
            "0.5\n",
            "0.5\n",
            "===\n",
            "0.5\n",
            "0.5\n",
            "===+++===\n",
            "0.24752475247524752\n",
            "0.24752475247524752\n",
            "===\n",
            "0.49019607843137253\n",
            "0.49019607843137253\n",
            "===\n",
            "0.5\n",
            "0.5\n",
            "=== === ===\n",
            "0.5\n",
            "0.5\n",
            "===\n",
            "0.49507377148833714\n",
            "0.49507377148833714\n",
            "===\n",
            "0.4950980392156863\n",
            "0.4950980392156863\n",
            "===+++===\n",
            "0.3289473684210526\n",
            "0.3289473684210526\n"
          ]
        }
      ],
      "source": [
        "# Miejsce na eksperymenty\n",
        "\n",
        "print(confusion_matrix(y_hat_0, y))\n",
        "print(confusion_matrix(y_hat_1, y))\n",
        "print(\"===\")\n",
        "print(accuracy(y_hat_0, y))\n",
        "print(accuracy(y_hat_1, y))\n",
        "print(\"===\")\n",
        "print(precision(y_hat_0, y))\n",
        "print(precision(y_hat_1, y))\n",
        "print(\"===\")\n",
        "print(recall(y_hat_0, y))\n",
        "print(recall(y_hat_1, y))\n",
        "print(\"===\")\n",
        "print(specificity(y_hat_0, y))\n",
        "print(specificity(y_hat_1, y))\n",
        "print(\"===+++===\")\n",
        "print(precision(y_hat_0, y, \"macro\"))\n",
        "print(precision(y_hat_1, y, \"macro\"))\n",
        "print(\"===\")\n",
        "print(recall(y_hat_0, y, \"macro\"))\n",
        "print(recall(y_hat_1, y, \"macro\"))\n",
        "print(\"===\")\n",
        "print(specificity(y_hat_0, y, \"macro\"))\n",
        "print(specificity(y_hat_1, y, \"macro\"))\n",
        "print(\"=== === ===\")\n",
        "print(f1_score(y_hat_0, y))\n",
        "print(f1_score(y_hat_1, y))\n",
        "print(\"===\")\n",
        "print(g_mean(y_hat_0, y))\n",
        "print(g_mean(y_hat_1, y))\n",
        "print(\"===\")\n",
        "print(balanced_accuracy(y_hat_0, y))\n",
        "print(balanced_accuracy(y_hat_1, y))\n",
        "print(\"===+++===\")\n",
        "print(f1_score(y_hat_0, y, \"macro\"))\n",
        "print(f1_score(y_hat_1, y, \"macro\"))"
      ],
      "metadata": {
        "id": "a46197729b7aadf5",
        "colab": {
          "base_uri": "https://localhost:8080/"
        },
        "outputId": "b30c3c51-40a0-47a1-8d2c-830c9f0e11a4"
      },
      "id": "a46197729b7aadf5"
    },
    {
      "cell_type": "markdown",
      "source": [
        "Odpowiedz na pytanie\n",
        "\n",
        "1. Czy zaimplementowane funkcje mogą być wystarczające do oceny modeli klasyfikacyjnych? Jeśli nie, to dlaczego? Jeśli tak, to w jakich przypadkach?\n",
        "\n",
        "[TODO: Twoja odpowiedź]\n",
        "Te funkcje zdecydowanie wystarczą przy klasyfikacji jednoetykietowej dla zbalansowanych klas, ale przy klasyfikacji wieloetykietowej nie mamy zaimplementowanej żadnej miary biorącej pod uwagę przynależność do wielu klas, oraz nie mamy żadnego bardziej złożonego wskaźnika który mógłby trafniej ocenić klasyfikator dla niezbalansowanych klas."
      ],
      "metadata": {
        "collapsed": false,
        "id": "ba83186dc89ad616"
      },
      "id": "ba83186dc89ad616"
    },
    {
      "cell_type": "markdown",
      "source": [
        "Sprawdź jak zaimplementowane funkcje działają na 3 zbiorach testowych o różnej charakterystyce.\n",
        "\n",
        "### Scenariusz 1"
      ],
      "metadata": {
        "collapsed": false,
        "id": "c62385205b51daab"
      },
      "id": "c62385205b51daab"
    },
    {
      "cell_type": "code",
      "execution_count": null,
      "outputs": [],
      "source": [
        "# dane silnie niezbalansowane: 80% klasa 0, 10% klasa 1, 5% klasa 2, 5% klasa 3\n",
        "y = np.eye(4)[np.array([0] * 80 + [1] * 10 + [2] * 5 + [3] * 5)]\n",
        "\n",
        "# model przewiduje zawsze klasę 0\n",
        "y_hat_all_0 = np.eye(4)[np.array([0] * 100)]\n",
        "\n",
        "# model poprawnie przewiduje klasy 0 i 1, ale zawsze myli klasy 2 i 3\n",
        "y_hat_partial = np.eye(4)[np.array([0] * 80 + [1] * 10 + [3] * 5 + [2] * 5)]"
      ],
      "metadata": {
        "id": "e16a90ee7ed90e28"
      },
      "id": "e16a90ee7ed90e28"
    },
    {
      "cell_type": "code",
      "execution_count": null,
      "outputs": [
        {
          "output_type": "stream",
          "name": "stdout",
          "text": [
            "[[80  0  0  0]\n",
            " [10  0  0  0]\n",
            " [ 5  0  0  0]\n",
            " [ 5  0  0  0]]\n",
            "[[80  0  0  0]\n",
            " [ 0 10  0  0]\n",
            " [ 0  0  0  5]\n",
            " [ 0  0  5  0]]\n",
            "===\n",
            "0.8\n",
            "0.9\n",
            "===\n",
            "0.8\n",
            "0.9\n",
            "===\n",
            "0.8\n",
            "0.9\n",
            "===\n",
            "0.9333333333333333\n",
            "0.9666666666666667\n",
            "===+++===\n",
            "0.19801980198019803\n",
            "0.47418630751964086\n",
            "===\n",
            "0.24691358024691357\n",
            "0.47418630751964086\n",
            "===\n",
            "0.75\n",
            "0.9736842105263157\n",
            "=== === ===\n",
            "0.8000000000000002\n",
            "0.9\n",
            "===\n",
            "0.4303314829119352\n",
            "0.6794907802756784\n",
            "===\n",
            "0.4984567901234568\n",
            "0.7239352590229783\n",
            "===+++===\n",
            "0.21978021978021978\n",
            "0.47418630751964086\n"
          ]
        }
      ],
      "source": [
        "# Miejsce na eksperymenty\n",
        "\n",
        "print(confusion_matrix(y_hat_all_0, y))\n",
        "print(confusion_matrix(y_hat_partial, y))\n",
        "print(\"===\")\n",
        "print(accuracy(y_hat_all_0, y))\n",
        "print(accuracy(y_hat_partial, y))\n",
        "print(\"===\")\n",
        "print(precision(y_hat_all_0, y))\n",
        "print(precision(y_hat_partial, y))\n",
        "print(\"===\")\n",
        "print(recall(y_hat_all_0, y))\n",
        "print(recall(y_hat_partial, y))\n",
        "print(\"===\")\n",
        "print(specificity(y_hat_all_0, y))\n",
        "print(specificity(y_hat_partial, y))\n",
        "print(\"===+++===\")\n",
        "print(precision(y_hat_all_0, y, \"macro\"))\n",
        "print(precision(y_hat_partial, y, \"macro\"))\n",
        "print(\"===\")\n",
        "print(recall(y_hat_all_0, y, \"macro\"))\n",
        "print(recall(y_hat_partial, y, \"macro\"))\n",
        "print(\"===\")\n",
        "print(specificity(y_hat_all_0, y, \"macro\"))\n",
        "print(specificity(y_hat_partial, y, \"macro\"))\n",
        "print(\"=== === ===\")\n",
        "print(f1_score(y_hat_all_0, y))\n",
        "print(f1_score(y_hat_partial, y))\n",
        "print(\"===\")\n",
        "print(g_mean(y_hat_all_0, y))\n",
        "print(g_mean(y_hat_partial, y))\n",
        "print(\"===\")\n",
        "print(balanced_accuracy(y_hat_all_0, y))\n",
        "print(balanced_accuracy(y_hat_partial, y))\n",
        "print(\"===+++===\")\n",
        "print(f1_score(y_hat_all_0, y, \"macro\"))\n",
        "print(f1_score(y_hat_partial, y, \"macro\"))"
      ],
      "metadata": {
        "id": "57e1f5c9796f78e3",
        "colab": {
          "base_uri": "https://localhost:8080/"
        },
        "outputId": "7d8752d9-8771-4c92-f30e-4bbe4f864b72"
      },
      "id": "57e1f5c9796f78e3"
    },
    {
      "cell_type": "markdown",
      "source": [
        "### Scenariusz 2"
      ],
      "metadata": {
        "collapsed": false,
        "id": "c1487d4cd26ef875"
      },
      "id": "c1487d4cd26ef875"
    },
    {
      "cell_type": "code",
      "execution_count": null,
      "outputs": [],
      "source": [
        "# dane niezbalansowane: 50 próbek klasy 0, 25 klasy 1, 15 klasy 2, 10 klasy 3\n",
        "y = np.eye(4)[np.array([0] * 50 + [1] * 25 + [2] * 15 + [3] * 10)]\n",
        "\n",
        "# Model przewiduje 60 próbek jako klasa 0, reszta losowo\n",
        "np.random.seed(42)\n",
        "y_hat = np.eye(4)[np.array([0] * 60 + list(np.random.choice([1, 2, 3], size=40)))]"
      ],
      "metadata": {
        "id": "8b8c265d49fd7bf7"
      },
      "id": "8b8c265d49fd7bf7"
    },
    {
      "cell_type": "code",
      "execution_count": null,
      "outputs": [
        {
          "output_type": "stream",
          "name": "stdout",
          "text": [
            "[[50  0  0  0]\n",
            " [10  4  2  9]\n",
            " [ 0  6  6  3]\n",
            " [ 0  1  4  5]]\n",
            "===\n",
            "0.65\n",
            "===\n",
            "0.65\n",
            "===\n",
            "0.65\n",
            "===\n",
            "0.8833333333333333\n",
            "===+++===\n",
            "0.47308042594927835\n",
            "===\n",
            "0.4909459413135884\n",
            "===\n",
            "0.8756862745098039\n",
            "=== === ===\n",
            "0.65\n",
            "===\n",
            "0.6556787493388855\n",
            "===\n",
            "0.6833161079116961\n",
            "===+++===\n",
            "0.4818476401099742\n"
          ]
        }
      ],
      "source": [
        "# Miejsce na eksperymenty\n",
        "\n",
        "print(confusion_matrix(y_hat, y))\n",
        "print(\"===\")\n",
        "print(accuracy(y_hat, y))\n",
        "print(\"===\")\n",
        "print(precision(y_hat, y))\n",
        "print(\"===\")\n",
        "print(recall(y_hat, y))\n",
        "print(\"===\")\n",
        "print(specificity(y_hat, y))\n",
        "print(\"===+++===\")\n",
        "print(precision(y_hat, y, \"macro\"))\n",
        "print(\"===\")\n",
        "print(recall(y_hat, y, \"macro\"))\n",
        "print(\"===\")\n",
        "print(specificity(y_hat, y, \"macro\"))\n",
        "print(\"=== === ===\")\n",
        "print(f1_score(y_hat, y))\n",
        "print(\"===\")\n",
        "print(g_mean(y_hat, y))\n",
        "print(\"===\")\n",
        "print(balanced_accuracy(y_hat, y))\n",
        "print(\"===+++===\")\n",
        "print(f1_score(y_hat, y, \"macro\"))"
      ],
      "metadata": {
        "id": "e984b110f3685b18",
        "colab": {
          "base_uri": "https://localhost:8080/"
        },
        "outputId": "127d4228-790c-423f-ee5d-46fb7004c0c2"
      },
      "id": "e984b110f3685b18"
    },
    {
      "cell_type": "markdown",
      "source": [
        "### Scenariusz 3"
      ],
      "metadata": {
        "collapsed": false,
        "id": "cec7fae84b99b8c2"
      },
      "id": "cec7fae84b99b8c2"
    },
    {
      "cell_type": "code",
      "execution_count": null,
      "outputs": [],
      "source": [
        "# dane niezbalansowane jak w Scenariuszu 2\n",
        "y = np.eye(4)[np.array([0] * 50 + [1] * 25 + [2] * 15 + [3] * 10)]\n",
        "\n",
        "# model losowy\n",
        "np.random.seed(0)\n",
        "y_hat = np.eye(4)[np.random.choice([0, 1, 2, 3], size=100)]"
      ],
      "metadata": {
        "id": "d57f67d7fb780945"
      },
      "id": "d57f67d7fb780945"
    },
    {
      "cell_type": "code",
      "execution_count": null,
      "outputs": [
        {
          "output_type": "stream",
          "name": "stdout",
          "text": [
            "[[12 12  8 18]\n",
            " [ 9  5  5  6]\n",
            " [ 2  6  3  4]\n",
            " [ 2  1  3  4]]\n",
            "===\n",
            "0.24\n",
            "===\n",
            "0.24\n",
            "===\n",
            "0.24\n",
            "===\n",
            "0.7466666666666667\n",
            "===+++===\n",
            "0.23318764568764572\n",
            "===\n",
            "0.2446845433977787\n",
            "===\n",
            "0.7468300653594773\n",
            "=== === ===\n",
            "0.24\n",
            "===\n",
            "0.4274783895569657\n",
            "===\n",
            "0.49575730437862797\n",
            "===+++===\n",
            "0.23879779536986204\n"
          ]
        }
      ],
      "source": [
        "# Miejsce na eksperymenty\n",
        "\n",
        "print(confusion_matrix(y_hat, y))\n",
        "print(\"===\")\n",
        "print(accuracy(y_hat, y))\n",
        "print(\"===\")\n",
        "print(precision(y_hat, y))\n",
        "print(\"===\")\n",
        "print(recall(y_hat, y))\n",
        "print(\"===\")\n",
        "print(specificity(y_hat, y))\n",
        "print(\"===+++===\")\n",
        "print(precision(y_hat, y, \"macro\"))\n",
        "print(\"===\")\n",
        "print(recall(y_hat, y, \"macro\"))\n",
        "print(\"===\")\n",
        "print(specificity(y_hat, y, \"macro\"))\n",
        "print(\"=== === ===\")\n",
        "print(f1_score(y_hat, y))\n",
        "print(\"===\")\n",
        "print(g_mean(y_hat, y))\n",
        "print(\"===\")\n",
        "print(balanced_accuracy(y_hat, y))\n",
        "print(\"===+++===\")\n",
        "print(f1_score(y_hat, y, \"macro\"))"
      ],
      "metadata": {
        "id": "d8bd935c809a3a9c",
        "colab": {
          "base_uri": "https://localhost:8080/"
        },
        "outputId": "860b7ee1-d890-4393-86cb-207320ee7c48"
      },
      "id": "d8bd935c809a3a9c"
    },
    {
      "cell_type": "markdown",
      "source": [
        "### Pytania\n",
        "\n",
        "Odpowiedz na pytania:\n",
        "1. Jakie różnice daje uśrednianie wyników \"micro\" w porównaniu do \"macro\"? Dla jakich danych warto użyć jednego, a dla jakich drugiego sposobu uśredniania wyników?\n",
        "2. Dlaczego warto stosować zbalansowaną dokładność (balanced accuracy) zamiast zwykłej dokładności (accuracy)?\n",
        "3. Dlaczego warto stosować miarę G-mean zamiast F1? Dla jakich scenariuszy miara G-mean pozwala na bardziej adekwatną ocenę modelu?\n",
        "\n",
        "[TODO: Twoje odpowiedzi]\n",
        "\n",
        "1.\n",
        "Micro powinno zostać użyte przy zbalansowanych zbiorach danych, dla obliczenia ogólnej skuteczności klasyfikatora, albo gdy błędy w często występujących klasach są równie istotne co te w rzadko występujących.\n",
        "Macro natomiast, gdy klasy są niezbalansowane i potrzeba sprawdzić czy model działa poprawnie również dla rzadko występujących klas, oraz gdy każda klasa jest równie istotna (jak w klasyfikacji chorób, bo rzadkie przypadki będą bardzo ważne).\n",
        "\n",
        "Główne różnice jakie daje obliczanie micro od macro to to że micro oblicza globalne wartości dla całego zbioru z równą wagą każdej próbki, a macro oblicza globalne wartości z równą wagą każdej klasy. Stąd, rzadziej występujące klasy mają większy wpływ na macro, a znikomy na micro.\n",
        "\n",
        "2. Balanced Accuracy będzie lepszą miarą w przypadku niezbalansowanych klas, bo zapewni równoważność każdej klasie, podczas gdy zwykłe Accuracy może być zwodnicze przy niezbalansowanych klasach, co pokazuje scenariusz 1.\n",
        "\n",
        "3. G-mean sprawdzi się lepiej od F1 przy niezbalansowanych danych, tak jak balanced accuracy opisane wyżej, a więc przy wykrywaniu rzadkich przypadków (chorób, oszustów, anomalii w sieciach) oraz w przypadku gdy chcemy zapewnić wysoką czułość bez podnoszenia ilości fałszywych alarmów (FP)\n",
        "F1 jest balansem między precyzją a czułością, ale będzie gdy chcemy wziąć pod uwagę specyficzność, co robi G-mean."
      ],
      "metadata": {
        "collapsed": false,
        "id": "ea9722a8773175ca"
      },
      "id": "ea9722a8773175ca"
    },
    {
      "cell_type": "markdown",
      "source": [
        "# Zadanie 2: k-folds cross-validation\n",
        "\n",
        "Zaimplementuj funkcję `split_to_k_folds`, która dokona podziału danych na `k` zbiorów treningowych i testowych. Następnie dokonaj analizy wpływu stratyfikacji na postrzegane ryzyko modelu."
      ],
      "metadata": {
        "collapsed": false,
        "id": "390faf8e900a486c"
      },
      "id": "390faf8e900a486c"
    },
    {
      "cell_type": "code",
      "execution_count": null,
      "outputs": [],
      "source": [
        "def split_to_k_folds(x: np.ndarray, y: np.ndarray, k: int = 5, stratify: bool = True\n",
        "                     ) -> list[tuple[tuple[np.ndarray, np.ndarray], tuple[np.ndarray, np.ndarray]]]:\n",
        "    \"\"\"Funkcja implementująca k-krotną walidację krzyżową.\n",
        "\n",
        "    W przypadku stratyfikacji, funkcja powinna zachować proporcje klas w podziałach. W tym celu można\n",
        "    wykorzystać prosty algorytm zaproponowany podczas laboratorium.\n",
        "\n",
        "    Funkcja powinna zwracać listę krotek, gdzie każda krotka zawiera dane podzielone na zbiór treningowy i testowy.\n",
        "    Rozwiązanie to w oczywisty sposób nie jest optymalne pod względem pamięciowym, ale taki format zwracania danych\n",
        "    pomoże w dalszej części zadania.\n",
        "\n",
        "    Args:\n",
        "        x (np.ndarray): Macierz z danymi o wymiarach `(n, d)`.\n",
        "        y (np.ndarray): Macierz z etykietami o wymiarach `(n, c)`.\n",
        "        k (int): Liczba podziałów zbioru danych. Domyślnie 5.\n",
        "        stratify (bool): Czy zachować proporcje klas w podziałach. Domyślnie `True`.\n",
        "\n",
        "    Returns:\n",
        "        list[tuple[np.ndarray]]: Lista krotek z podziałami danych na zbiór treningowy i testowy.\n",
        "    \"\"\"\n",
        "    # TODO: zaimplementuj funkcję\n",
        "    splits = []\n",
        "    n = x.shape[0]\n",
        "    indices = np.arange(n)\n",
        "\n",
        "    if stratify:\n",
        "      unique_classes, y_indicies = np.unique(y, return_inverse=True)\n",
        "      class_indices = [np.where(y == c)[0] for c in unique_classes]\n",
        "      folds = [[] for _ in range(k)]\n",
        "\n",
        "      for cls in unique_classes:\n",
        "        cls_indicies = indices[y_indicies == cls]\n",
        "        np.random.shuffle(cls_indicies)\n",
        "\n",
        "        for i, idx in enumerate(cls_indicies):\n",
        "          folds[i % k].append(idx)\n",
        "\n",
        "    else:\n",
        "      np.random.shuffle(indices)\n",
        "      folds = np.array_split(indices, k)\n",
        "\n",
        "    splits = []\n",
        "    for i in range(k):\n",
        "      test_indices = folds[i]\n",
        "      train_indices = np.setdiff1d(indices, test_indices)\n",
        "\n",
        "      splits.append((\n",
        "        (x[train_indices], y[train_indices]),\n",
        "        (x[test_indices], y[test_indices])\n",
        "      ))\n",
        "    return splits\n"
      ],
      "metadata": {
        "id": "c243ea61ae1867c7"
      },
      "id": "c243ea61ae1867c7"
    },
    {
      "cell_type": "markdown",
      "source": [
        "Przykładowe dane testowe. Zwróć uwagę, że dane te są niezbalansowane. Możesz dokonać modyfikacji danych, aby zobaczyć, jak zachowuje się algorytm w zależności od charakterystyki danych."
      ],
      "metadata": {
        "collapsed": false,
        "id": "caf14d0ff078642e"
      },
      "id": "caf14d0ff078642e"
    },
    {
      "cell_type": "code",
      "execution_count": null,
      "outputs": [
        {
          "output_type": "display_data",
          "data": {
            "text/plain": [
              "<Figure size 640x480 with 1 Axes>"
            ],
            "image/png": "[encoded data removed]"
          },
          "metadata": {}
        }
      ],
      "source": [
        "import matplotlib.pyplot as plt\n",
        "\n",
        "n0 = 1000\n",
        "n1 = 10\n",
        "\n",
        "np.random.seed(42)\n",
        "x1 = np.random.randn(n0, 2) * 1.2\n",
        "x2 = np.random.randn(n1, 2) + [2, 2]\n",
        "\n",
        "x = np.vstack([x1, x2])\n",
        "y = np.array([0] * n0 + [1] * n1)\n",
        "\n",
        "plt.scatter(x[:, 0], x[:, 1], c=y)\n",
        "plt.show()"
      ],
      "metadata": {
        "id": "903fbfac641dfd6a",
        "colab": {
          "base_uri": "https://localhost:8080/",
          "height": 434
        },
        "outputId": "27bda468-3e7b-4633-a28e-ee3a4a36df58"
      },
      "id": "903fbfac641dfd6a"
    },
    {
      "cell_type": "code",
      "execution_count": null,
      "outputs": [],
      "source": [
        "splits_stratified = split_to_k_folds(x, y, k=5, stratify=True)\n",
        "splits = split_to_k_folds(x, y, k=5, stratify=False)"
      ],
      "metadata": {
        "id": "ccc424be6e2c6b1d"
      },
      "id": "ccc424be6e2c6b1d"
    },
    {
      "cell_type": "markdown",
      "source": [
        "Przeprowadź walidację krzyżową dla klasyfikatora `GaussianNB` na danych z poprzedniego kroku. Porównaj wyniki dla obu wariantów podziału danych. Na podstawie obserwacji z poprzedniego zadania, wybierz miary oceny klasyfikatora, które uznasz za najbardziej adekwatne do tego zadania.\n",
        "\n",
        "Poniższą komórkę możesz dowolnie modyfikować, aby np. obliczać kilka miar jednocześnie."
      ],
      "metadata": {
        "collapsed": false,
        "id": "bdb42ca701f371e1"
      },
      "id": "bdb42ca701f371e1"
    },
    {
      "cell_type": "code",
      "execution_count": null,
      "outputs": [
        {
          "output_type": "stream",
          "name": "stdout",
          "text": [
            "Średnia wszystkich metryk  0.8497 +/-  0.2220\n",
            "  Accuracy:          0.9901 +/- 0.0000\n",
            "  Precision:         0.9901 +/- 0.0000\n",
            "  Recall:            0.9901 +/- 0.0000\n",
            "  Specificity:       0.9901 +/- 0.0000\n",
            "  F1-score:          0.9901 +/- 0.0000\n",
            "  G-mean:            0.4988 +/- 0.0000\n",
            "  Balanced Accuracy: 0.4988 +/- 0.0000\n"
          ]
        }
      ],
      "source": [
        "from sklearn.naive_bayes import GaussianNB\n",
        "\n",
        "metrics = []\n",
        "\n",
        "for (x_train, y_train), (x_test, y_test) in splits_stratified:\n",
        "    model = GaussianNB()\n",
        "    model.fit(x_train, y_train)\n",
        "    y_hat = model.predict(x_test)\n",
        "    metrics.append([\n",
        "        # TODO: oblicz wybrane miary klasyfikacji\n",
        "        accuracy(y_hat, y_test),\n",
        "        precision(y_hat, y_test),\n",
        "        recall(y_hat, y_test),\n",
        "        specificity(y_hat, y_test),\n",
        "        f1_score(y_hat, y_test),\n",
        "        g_mean(y_hat, y_test),\n",
        "        balanced_accuracy(y_hat, y_test)\n",
        "      ]\n",
        "    )\n",
        "\n",
        "metrics = np.array(metrics)\n",
        "means = np.mean(metrics, axis=0)\n",
        "stds = np.std(metrics, axis=0)\n",
        "\n",
        "print(f\"Średnia wszystkich metryk {np.mean(metrics): .4f} +/- {np.std(metrics): .4f}\")\n",
        "print(f\"  Accuracy:          {means[0]:.4f} +/- {stds[0]:.4f}\")\n",
        "print(f\"  Precision:         {means[1]:.4f} +/- {stds[1]:.4f}\")\n",
        "print(f\"  Recall:            {means[2]:.4f} +/- {stds[2]:.4f}\")\n",
        "print(f\"  Specificity:       {means[3]:.4f} +/- {stds[3]:.4f}\")\n",
        "print(f\"  F1-score:          {means[4]:.4f} +/- {stds[4]:.4f}\")\n",
        "print(f\"  G-mean:            {means[5]:.4f} +/- {stds[5]:.4f}\")\n",
        "print(f\"  Balanced Accuracy: {means[6]:.4f} +/- {stds[6]:.4f}\")"
      ],
      "metadata": {
        "id": "988b351a93bcdb86",
        "colab": {
          "base_uri": "https://localhost:8080/"
        },
        "outputId": "b4412cee-f871-4f01-ca4a-9ca2fe6aa689"
      },
      "id": "988b351a93bcdb86"
    },
    {
      "cell_type": "code",
      "source": [
        "from sklearn.naive_bayes import GaussianNB\n",
        "\n",
        "metrics = []\n",
        "\n",
        "for (x_train, y_train), (x_test, y_test) in splits:\n",
        "    model = GaussianNB()\n",
        "    model.fit(x_train, y_train)\n",
        "    y_hat = model.predict(x_test)\n",
        "    metrics.append([\n",
        "        # TODO: oblicz wybrane miary klasyfikacji\n",
        "        accuracy(y_hat, y_test),\n",
        "        precision(y_hat, y_test),\n",
        "        recall(y_hat, y_test),\n",
        "        specificity(y_hat, y_test),\n",
        "        f1_score(y_hat, y_test),\n",
        "        g_mean(y_hat, y_test),\n",
        "        balanced_accuracy(y_hat, y_test)\n",
        "      ]\n",
        "    )\n",
        "\n",
        "metrics = np.array(metrics)\n",
        "means = np.mean(metrics, axis=0)\n",
        "stds = np.std(metrics, axis=0)\n",
        "\n",
        "print(f\"Średnia wszystkich metryk {np.mean(metrics): .4f} +/- {np.std(metrics): .4f}\")\n",
        "print(f\"  Accuracy:          {means[0]:.4f} +/- {stds[0]:.4f}\")\n",
        "print(f\"  Precision:         {means[1]:.4f} +/- {stds[1]:.4f}\")\n",
        "print(f\"  Recall:            {means[2]:.4f} +/- {stds[2]:.4f}\")\n",
        "print(f\"  Specificity:       {means[3]:.4f} +/- {stds[3]:.4f}\")\n",
        "print(f\"  F1-score:          {means[4]:.4f} +/- {stds[4]:.4f}\")\n",
        "print(f\"  G-mean:            {means[5]:.4f} +/- {stds[5]:.4f}\")\n",
        "print(f\"  Balanced Accuracy: {means[6]:.4f} +/- {stds[6]:.4f}\")"
      ],
      "metadata": {
        "colab": {
          "base_uri": "https://localhost:8080/"
        },
        "id": "FAIHWrGs2H5x",
        "outputId": "5e43e750-d0d5-47f6-c02b-350251f8454e"
      },
      "id": "FAIHWrGs2H5x",
      "execution_count": null,
      "outputs": [
        {
          "output_type": "stream",
          "name": "stdout",
          "text": [
            "Średnia wszystkich metryk  0.8497 +/-  0.2220\n",
            "  Accuracy:          0.9901 +/- 0.0031\n",
            "  Precision:         0.9901 +/- 0.0031\n",
            "  Recall:            0.9901 +/- 0.0031\n",
            "  Specificity:       0.9901 +/- 0.0031\n",
            "  F1-score:          0.9901 +/- 0.0031\n",
            "  G-mean:            0.4988 +/- 0.0000\n",
            "  Balanced Accuracy: 0.4988 +/- 0.0000\n"
          ]
        }
      ]
    },
    {
      "cell_type": "markdown",
      "source": [
        "### Pytania\n",
        "\n",
        "Odpowiedz na pytania:\n",
        "1. Jaka była Twoja motywacja do wybrania konkretnych miar klasyfikacji?\n",
        "2. Dla jakich danych warto zastosować stratyfikację podczas walidacji krzyżowej?\n",
        "3. Jakie ryzyko niesie za sobą losowy podział danych na dwa zbiory (treningowy i testowy), zamiast używania walidacji krzyżowej ze stratyfikacją?\n",
        "\n",
        "[TODO: Twoje odpowiedzi]\n",
        "\n",
        "Obliczam wszystkie zaimplementowane miary, z czystej ciekawości co do tego jak się zachowują gdy zmienię cokolwiek z danymi. Co do wyboru, to uważam że na największą uwagę zasługują:\n",
        "\n",
        "Accuracy - klasyczna miara tego jak ogólnie skuteczny jest klasyfikator, chociaż nie powinna być jedyna, aby nie wpaść w pułapkę przy niezbalansowanych danych\n",
        "\n",
        "F1-score - jako balans między precision i recall\n",
        "\n",
        "G-mean - któremu również trzeba się przyjrzeć, aby nie zaniedbać jakiejś rzadziej występującej klasy\n",
        "\n",
        "\n",
        "2. Stratyfikacja przynosi efekty w przypadku niezbalansowanych danych, szczególnie przy bardzo rzadkich klasach.\n",
        "\n",
        "3. Jeśli jakaś klasa decyzyjna jest wyjątkowo rzadka, może jej zabraknąć w zbiorze treningowym, przez co klasyfikator nie nauczy się jej wykrywać, a do tego występuje znacznie większe ryzyko zarówno prze- jak i niedouczenia, bo jeśli zbiór treningowy będzie mieć same podobne do siebie przykłady, to klasyfikator będzie słabo generalizować, a więc się przeuczy, ale też gdy znajdą się same \"rozstrzelone\" w przestrzeni przypadki, to model nie nauczy się ich poprawnie klasyfikować.\n",
        "Dodatkowo, walidacja krzyżowa zapewnia efektywniejsze wykorzystanie danych, bo każda próbka będzie i treningową i testową, zamiast tylko taką albo tylko taką, co znacząco podnosi jakośc klasyfikacji gdy zbiór danych przeznaczonych na trening jest niewielki."
      ],
      "metadata": {
        "collapsed": false,
        "id": "fa6234ff28d28cd1"
      },
      "id": "fa6234ff28d28cd1"
    }
  ],
  "metadata": {
    "kernelspec": {
      "display_name": "Python 3",
      "language": "python",
      "name": "python3"
    },
    "language_info": {
      "codemirror_mode": {
        "name": "ipython",
        "version": 2
      },
      "file_extension": ".py",
      "mimetype": "text/x-python",
      "name": "python",
      "nbconvert_exporter": "python",
      "pygments_lexer": "ipython2",
      "version": "2.7.6"
    },
    "colab": {
      "provenance": []
    }
  },
  "nbformat": 4,
  "nbformat_minor": 5
}